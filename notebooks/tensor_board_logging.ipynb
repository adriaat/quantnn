{
 "cells": [
  {
   "cell_type": "markdown",
   "metadata": {
    "id": "19Ha8T2m-7yp"
   },
   "source": [
    "# Logging training progess using tensorboard\n",
    "\n",
    "quantnn now has some limited functionality to log training progress using [Tensorflow tensorboard](https://www.tensorflow.org/tensorboard/). This notebook provides an example how this functionality can be used using the convolutional rain rate retrieval form [this notebook](https://github.com/simonpf/quantnn/blob/main/notebooks/convolutional_rain_rate_retrieval.ipynb).\n",
    "\n",
    "> **Note**: This is still very new functionality so specific details of the API may change in the future.\n"
   ]
  },
  {
   "cell_type": "code",
   "execution_count": 1,
   "metadata": {
    "id": "FpY9FNLU-7yy"
   },
   "outputs": [
    {
     "name": "stderr",
     "output_type": "stream",
     "text": [
      "\n",
      "Bad key \"mathtext.fallback\" on line 203 in\n",
      "/home/simonpf/src/quantnn/quantnn/data/matplotlib_style.rc.\n",
      "You probably need to get an updated matplotlibrc file from\n",
      "https://github.com/matplotlib/matplotlib/blob/v3.1.3/matplotlibrc.template\n",
      "or from the matplotlib source distribution\n"
     ]
    }
   ],
   "source": [
    "%load_ext autoreload\n",
    "%autoreload 2\n",
    "import numpy as np\n",
    "import matplotlib.pyplot as plt\n",
    "from quantnn.plotting import set_style\n",
    "set_style()"
   ]
  },
  {
   "cell_type": "markdown",
   "metadata": {
    "id": "9rSkQzbc-7yz"
   },
   "source": [
    "## Training setup\n",
    "\n",
    "To setup the example, we load the training and validation data and define a very simple convolutional network."
   ]
  },
  {
   "cell_type": "code",
   "execution_count": 2,
   "metadata": {
    "id": "4zhWXYUT-7y0"
   },
   "outputs": [],
   "source": [
    "from quantnn.examples.gprof_conv import download_data\n",
    "download_data()"
   ]
  },
  {
   "cell_type": "code",
   "execution_count": 3,
   "metadata": {
    "id": "BqlD3XnD-7y1"
   },
   "outputs": [],
   "source": [
    "data = np.load(\"data/gprof_conv.npz\")\n",
    "x_train = data[\"x_train\"]\n",
    "y_train = data[\"y_train\"]\n",
    "x_val = data[\"x_val\"]\n",
    "y_val = data[\"y_val\"]"
   ]
  },
  {
   "cell_type": "code",
   "execution_count": 4,
   "metadata": {
    "id": "dzdtPg16-7y5"
   },
   "outputs": [],
   "source": [
    "import torch\n",
    "from torch import nn\n",
    "from quantnn.qrnn import QRNN\n",
    "\n",
    "quantiles = np.linspace(0.01, 0.99, 99)\n",
    "\n",
    "model_fc = nn.Sequential(\n",
    "    nn.Conv2d(13, 128, 1),\n",
    "    nn.BatchNorm2d(128),\n",
    "    nn.ReLU(),\n",
    "    nn.Conv2d(128, 128, 1),\n",
    "    nn.BatchNorm2d(128),\n",
    "    nn.ReLU(),\n",
    "    nn.Conv2d(128, 128, 1),\n",
    "    nn.BatchNorm2d(128),\n",
    "    nn.ReLU(),\n",
    "    nn.Conv2d(128, quantiles.size, 1)\n",
    ")\n",
    "\n",
    "qrnn = QRNN(quantiles=quantiles, model=model_fc)"
   ]
  },
  {
   "cell_type": "markdown",
   "metadata": {},
   "source": [
    "## Activating tensorboard logging\n",
    "\n",
    "Tensor board loggin is activated by passing a ``quantnn.models.pytorch.logging.TensorBoardLogger`` object as the ``logger`` keyword argument to the QRNNs ``train`` method. \n",
    "\n",
    "The directory to which the logging data is written can be controlled using the ``log_directory`` argument passed to the ``TensorBoardLogger`` class upon initialization. If it is set to ``None``, logs for all experiments will be written into separate sub-folders in the ``run`` directory."
   ]
  },
  {
   "cell_type": "code",
   "execution_count": 9,
   "metadata": {
    "colab": {
     "base_uri": "https://localhost:8080/"
    },
    "id": "LRVE9em6-7y6",
    "outputId": "c5957d74-d71e-455c-f26b-38dc65c726cb"
   },
   "outputs": [
    {
     "data": {
      "application/vnd.jupyter.widget-view+json": {
       "model_id": "",
       "version_major": 2,
       "version_minor": 0
      },
      "text/plain": [
       "Output()"
      ]
     },
     "metadata": {},
     "output_type": "display_data"
    },
    {
     "data": {
      "text/html": [
       "<pre style=\"white-space:pre;overflow-x:auto;line-height:normal;font-family:Menlo,'DejaVu Sans Mono',consolas,'Courier New',monospace\"></pre>\n"
      ],
      "text/plain": []
     },
     "metadata": {},
     "output_type": "display_data"
    },
    {
     "data": {
      "text/html": [
       "<pre style=\"white-space:pre;overflow-x:auto;line-height:normal;font-family:Menlo,'DejaVu Sans Mono',consolas,'Courier New',monospace\"><span style=\"font-style: italic\">                                                       </span>\n",
       "<span style=\"font-style: italic\">                                                       </span>\n",
       "<span style=\"font-style: italic\">                    Training history                   </span>\n",
       "<span style=\"font-style: italic\">                                                       </span>\n",
       "<span style=\"font-weight: bold\">    Epoch     </span> <span style=\"font-weight: bold\"> </span><span style=\"color: #800000; text-decoration-color: #800000; font-weight: bold\">  Training loss   </span><span style=\"font-weight: bold\"> </span> <span style=\"font-weight: bold\"> </span><span style=\"color: #000080; text-decoration-color: #000080; font-weight: bold\"> Validation loss </span><span style=\"font-weight: bold\"> </span>\n",
       "───────────────────────────────────────────────────────\n",
       "   <span style=\"font-weight: bold\">#</span>     LR           <span style=\"color: #800000; text-decoration-color: #800000; font-weight: bold\">Total</span>          <span style=\"color: #000080; text-decoration-color: #000080; font-weight: bold\">Total</span>             \n",
       "                                                       \n",
       "</pre>\n"
      ],
      "text/plain": [
       "\u001b[3m                                                       \u001b[0m\n",
       "\u001b[3m                                                       \u001b[0m\n",
       "\u001b[3m                    Training history                   \u001b[0m\n",
       "\u001b[3m                                                       \u001b[0m\n",
       "\u001b[1m \u001b[0m\u001b[1m   Epoch    \u001b[0m\u001b[1m \u001b[0m \u001b[1m \u001b[0m\u001b[1;31m  Training loss   \u001b[0m\u001b[1m \u001b[0m \u001b[1m \u001b[0m\u001b[1;34m Validation loss \u001b[0m\u001b[1m \u001b[0m\n",
       "───────────────────────────────────────────────────────\n",
       "   \u001b[1m#\u001b[0m     LR           \u001b[1;31mTotal\u001b[0m          \u001b[1;34mTotal\u001b[0m             \n",
       "                                                       \n"
      ]
     },
     "metadata": {},
     "output_type": "display_data"
    },
    {
     "data": {
      "text/html": [
       "<pre style=\"white-space:pre;overflow-x:auto;line-height:normal;font-family:Menlo,'DejaVu Sans Mono',consolas,'Courier New',monospace\">  <span style=\"font-weight: bold\">  1</span>   0.010         <span style=\"color: #800000; text-decoration-color: #800000; font-weight: bold\">0.053</span>          <span style=\"color: #000080; text-decoration-color: #000080; font-weight: bold\">0.047</span>             \n",
       "</pre>\n"
      ],
      "text/plain": [
       "  \u001b[1m  1\u001b[0m   0.010         \u001b[1;31m0.053\u001b[0m          \u001b[1;34m0.047\u001b[0m             \n"
      ]
     },
     "metadata": {},
     "output_type": "display_data"
    },
    {
     "data": {
      "application/vnd.jupyter.widget-view+json": {
       "model_id": "",
       "version_major": 2,
       "version_minor": 0
      },
      "text/plain": [
       "Output()"
      ]
     },
     "metadata": {},
     "output_type": "display_data"
    },
    {
     "data": {
      "text/html": [
       "<pre style=\"white-space:pre;overflow-x:auto;line-height:normal;font-family:Menlo,'DejaVu Sans Mono',consolas,'Courier New',monospace\"></pre>\n"
      ],
      "text/plain": []
     },
     "metadata": {},
     "output_type": "display_data"
    },
    {
     "data": {
      "text/html": [
       "<pre style=\"white-space:pre;overflow-x:auto;line-height:normal;font-family:Menlo,'DejaVu Sans Mono',consolas,'Courier New',monospace\">  <span style=\"font-weight: bold\">  2</span>   0.010         <span style=\"color: #800000; text-decoration-color: #800000; font-weight: bold\">0.053</span>          <span style=\"color: #000080; text-decoration-color: #000080; font-weight: bold\">0.046</span>             \n",
       "</pre>\n"
      ],
      "text/plain": [
       "  \u001b[1m  2\u001b[0m   0.010         \u001b[1;31m0.053\u001b[0m          \u001b[1;34m0.046\u001b[0m             \n"
      ]
     },
     "metadata": {},
     "output_type": "display_data"
    },
    {
     "data": {
      "application/vnd.jupyter.widget-view+json": {
       "model_id": "",
       "version_major": 2,
       "version_minor": 0
      },
      "text/plain": [
       "Output()"
      ]
     },
     "metadata": {},
     "output_type": "display_data"
    },
    {
     "data": {
      "text/html": [
       "<pre style=\"white-space:pre;overflow-x:auto;line-height:normal;font-family:Menlo,'DejaVu Sans Mono',consolas,'Courier New',monospace\"></pre>\n"
      ],
      "text/plain": []
     },
     "metadata": {},
     "output_type": "display_data"
    },
    {
     "data": {
      "text/html": [
       "<pre style=\"white-space:pre;overflow-x:auto;line-height:normal;font-family:Menlo,'DejaVu Sans Mono',consolas,'Courier New',monospace\">  <span style=\"font-weight: bold\">  3</span>   0.010         <span style=\"color: #800000; text-decoration-color: #800000; font-weight: bold\">0.053</span>          <span style=\"color: #000080; text-decoration-color: #000080; font-weight: bold\">0.047</span>             \n",
       "</pre>\n"
      ],
      "text/plain": [
       "  \u001b[1m  3\u001b[0m   0.010         \u001b[1;31m0.053\u001b[0m          \u001b[1;34m0.047\u001b[0m             \n"
      ]
     },
     "metadata": {},
     "output_type": "display_data"
    },
    {
     "data": {
      "application/vnd.jupyter.widget-view+json": {
       "model_id": "",
       "version_major": 2,
       "version_minor": 0
      },
      "text/plain": [
       "Output()"
      ]
     },
     "metadata": {},
     "output_type": "display_data"
    },
    {
     "data": {
      "text/html": [
       "<pre style=\"white-space:pre;overflow-x:auto;line-height:normal;font-family:Menlo,'DejaVu Sans Mono',consolas,'Courier New',monospace\"></pre>\n"
      ],
      "text/plain": []
     },
     "metadata": {},
     "output_type": "display_data"
    },
    {
     "data": {
      "text/html": [
       "<pre style=\"white-space:pre;overflow-x:auto;line-height:normal;font-family:Menlo,'DejaVu Sans Mono',consolas,'Courier New',monospace\">  <span style=\"font-weight: bold\">  4</span>   0.010         <span style=\"color: #800000; text-decoration-color: #800000; font-weight: bold\">0.053</span>          <span style=\"color: #000080; text-decoration-color: #000080; font-weight: bold\">0.047</span>             \n",
       "</pre>\n"
      ],
      "text/plain": [
       "  \u001b[1m  4\u001b[0m   0.010         \u001b[1;31m0.053\u001b[0m          \u001b[1;34m0.047\u001b[0m             \n"
      ]
     },
     "metadata": {},
     "output_type": "display_data"
    },
    {
     "data": {
      "application/vnd.jupyter.widget-view+json": {
       "model_id": "",
       "version_major": 2,
       "version_minor": 0
      },
      "text/plain": [
       "Output()"
      ]
     },
     "metadata": {},
     "output_type": "display_data"
    },
    {
     "data": {
      "text/html": [
       "<pre style=\"white-space:pre;overflow-x:auto;line-height:normal;font-family:Menlo,'DejaVu Sans Mono',consolas,'Courier New',monospace\"></pre>\n"
      ],
      "text/plain": []
     },
     "metadata": {},
     "output_type": "display_data"
    },
    {
     "data": {
      "text/html": [
       "<pre style=\"white-space:pre;overflow-x:auto;line-height:normal;font-family:Menlo,'DejaVu Sans Mono',consolas,'Courier New',monospace\">  <span style=\"font-weight: bold\">  5</span>   0.010         <span style=\"color: #800000; text-decoration-color: #800000; font-weight: bold\">0.053</span>          <span style=\"color: #000080; text-decoration-color: #000080; font-weight: bold\">0.046</span>             \n",
       "</pre>\n"
      ],
      "text/plain": [
       "  \u001b[1m  5\u001b[0m   0.010         \u001b[1;31m0.053\u001b[0m          \u001b[1;34m0.046\u001b[0m             \n"
      ]
     },
     "metadata": {},
     "output_type": "display_data"
    },
    {
     "data": {
      "application/vnd.jupyter.widget-view+json": {
       "model_id": "",
       "version_major": 2,
       "version_minor": 0
      },
      "text/plain": [
       "Output()"
      ]
     },
     "metadata": {},
     "output_type": "display_data"
    },
    {
     "data": {
      "text/html": [
       "<pre style=\"white-space:pre;overflow-x:auto;line-height:normal;font-family:Menlo,'DejaVu Sans Mono',consolas,'Courier New',monospace\"></pre>\n"
      ],
      "text/plain": []
     },
     "metadata": {},
     "output_type": "display_data"
    },
    {
     "data": {
      "text/html": [
       "<pre style=\"white-space:pre;overflow-x:auto;line-height:normal;font-family:Menlo,'DejaVu Sans Mono',consolas,'Courier New',monospace\">  <span style=\"font-weight: bold\">  6</span>   0.010         <span style=\"color: #800000; text-decoration-color: #800000; font-weight: bold\">0.053</span>          <span style=\"color: #000080; text-decoration-color: #000080; font-weight: bold\">0.047</span>             \n",
       "</pre>\n"
      ],
      "text/plain": [
       "  \u001b[1m  6\u001b[0m   0.010         \u001b[1;31m0.053\u001b[0m          \u001b[1;34m0.047\u001b[0m             \n"
      ]
     },
     "metadata": {},
     "output_type": "display_data"
    },
    {
     "data": {
      "application/vnd.jupyter.widget-view+json": {
       "model_id": "",
       "version_major": 2,
       "version_minor": 0
      },
      "text/plain": [
       "Output()"
      ]
     },
     "metadata": {},
     "output_type": "display_data"
    },
    {
     "data": {
      "text/html": [
       "<pre style=\"white-space:pre;overflow-x:auto;line-height:normal;font-family:Menlo,'DejaVu Sans Mono',consolas,'Courier New',monospace\"></pre>\n"
      ],
      "text/plain": []
     },
     "metadata": {},
     "output_type": "display_data"
    },
    {
     "data": {
      "text/html": [
       "<pre style=\"white-space:pre;overflow-x:auto;line-height:normal;font-family:Menlo,'DejaVu Sans Mono',consolas,'Courier New',monospace\">  <span style=\"font-weight: bold\">  7</span>   0.010         <span style=\"color: #800000; text-decoration-color: #800000; font-weight: bold\">0.053</span>          <span style=\"color: #000080; text-decoration-color: #000080; font-weight: bold\">0.047</span>             \n",
       "</pre>\n"
      ],
      "text/plain": [
       "  \u001b[1m  7\u001b[0m   0.010         \u001b[1;31m0.053\u001b[0m          \u001b[1;34m0.047\u001b[0m             \n"
      ]
     },
     "metadata": {},
     "output_type": "display_data"
    },
    {
     "data": {
      "application/vnd.jupyter.widget-view+json": {
       "model_id": "",
       "version_major": 2,
       "version_minor": 0
      },
      "text/plain": [
       "Output()"
      ]
     },
     "metadata": {},
     "output_type": "display_data"
    },
    {
     "data": {
      "text/html": [
       "<pre style=\"white-space:pre;overflow-x:auto;line-height:normal;font-family:Menlo,'DejaVu Sans Mono',consolas,'Courier New',monospace\"></pre>\n"
      ],
      "text/plain": []
     },
     "metadata": {},
     "output_type": "display_data"
    },
    {
     "data": {
      "text/html": [
       "<pre style=\"white-space:pre;overflow-x:auto;line-height:normal;font-family:Menlo,'DejaVu Sans Mono',consolas,'Courier New',monospace\">  <span style=\"font-weight: bold\">  8</span>   0.010         <span style=\"color: #800000; text-decoration-color: #800000; font-weight: bold\">0.053</span>          <span style=\"color: #000080; text-decoration-color: #000080; font-weight: bold\">0.047</span>             \n",
       "</pre>\n"
      ],
      "text/plain": [
       "  \u001b[1m  8\u001b[0m   0.010         \u001b[1;31m0.053\u001b[0m          \u001b[1;34m0.047\u001b[0m             \n"
      ]
     },
     "metadata": {},
     "output_type": "display_data"
    },
    {
     "data": {
      "application/vnd.jupyter.widget-view+json": {
       "model_id": "",
       "version_major": 2,
       "version_minor": 0
      },
      "text/plain": [
       "Output()"
      ]
     },
     "metadata": {},
     "output_type": "display_data"
    },
    {
     "data": {
      "text/html": [
       "<pre style=\"white-space:pre;overflow-x:auto;line-height:normal;font-family:Menlo,'DejaVu Sans Mono',consolas,'Courier New',monospace\"></pre>\n"
      ],
      "text/plain": []
     },
     "metadata": {},
     "output_type": "display_data"
    },
    {
     "data": {
      "text/html": [
       "<pre style=\"white-space:pre;overflow-x:auto;line-height:normal;font-family:Menlo,'DejaVu Sans Mono',consolas,'Courier New',monospace\">  <span style=\"font-weight: bold\">  9</span>   0.001         <span style=\"color: #800000; text-decoration-color: #800000; font-weight: bold\">0.053</span>          <span style=\"color: #000080; text-decoration-color: #000080; font-weight: bold\">0.046</span>             \n",
       "</pre>\n"
      ],
      "text/plain": [
       "  \u001b[1m  9\u001b[0m   0.001         \u001b[1;31m0.053\u001b[0m          \u001b[1;34m0.046\u001b[0m             \n"
      ]
     },
     "metadata": {},
     "output_type": "display_data"
    },
    {
     "data": {
      "application/vnd.jupyter.widget-view+json": {
       "model_id": "",
       "version_major": 2,
       "version_minor": 0
      },
      "text/plain": [
       "Output()"
      ]
     },
     "metadata": {},
     "output_type": "display_data"
    },
    {
     "data": {
      "text/html": [
       "<pre style=\"white-space:pre;overflow-x:auto;line-height:normal;font-family:Menlo,'DejaVu Sans Mono',consolas,'Courier New',monospace\"></pre>\n"
      ],
      "text/plain": []
     },
     "metadata": {},
     "output_type": "display_data"
    },
    {
     "data": {
      "text/html": [
       "<pre style=\"white-space:pre;overflow-x:auto;line-height:normal;font-family:Menlo,'DejaVu Sans Mono',consolas,'Courier New',monospace\">  <span style=\"font-weight: bold\"> 10</span>   0.001         <span style=\"color: #800000; text-decoration-color: #800000; font-weight: bold\">0.053</span>          <span style=\"color: #000080; text-decoration-color: #000080; font-weight: bold\">0.046</span>             \n",
       "</pre>\n"
      ],
      "text/plain": [
       "  \u001b[1m 10\u001b[0m   0.001         \u001b[1;31m0.053\u001b[0m          \u001b[1;34m0.046\u001b[0m             \n"
      ]
     },
     "metadata": {},
     "output_type": "display_data"
    },
    {
     "data": {
      "application/vnd.jupyter.widget-view+json": {
       "model_id": "",
       "version_major": 2,
       "version_minor": 0
      },
      "text/plain": [
       "Output()"
      ]
     },
     "metadata": {},
     "output_type": "display_data"
    },
    {
     "data": {
      "text/html": [
       "<pre style=\"white-space:pre;overflow-x:auto;line-height:normal;font-family:Menlo,'DejaVu Sans Mono',consolas,'Courier New',monospace\"></pre>\n"
      ],
      "text/plain": []
     },
     "metadata": {},
     "output_type": "display_data"
    },
    {
     "data": {
      "text/html": [
       "<pre style=\"white-space:pre;overflow-x:auto;line-height:normal;font-family:Menlo,'DejaVu Sans Mono',consolas,'Courier New',monospace\">  <span style=\"font-weight: bold\"> 11</span>   0.001         <span style=\"color: #800000; text-decoration-color: #800000; font-weight: bold\">0.053</span>          <span style=\"color: #000080; text-decoration-color: #000080; font-weight: bold\">0.046</span>             \n",
       "</pre>\n"
      ],
      "text/plain": [
       "  \u001b[1m 11\u001b[0m   0.001         \u001b[1;31m0.053\u001b[0m          \u001b[1;34m0.046\u001b[0m             \n"
      ]
     },
     "metadata": {},
     "output_type": "display_data"
    },
    {
     "data": {
      "application/vnd.jupyter.widget-view+json": {
       "model_id": "",
       "version_major": 2,
       "version_minor": 0
      },
      "text/plain": [
       "Output()"
      ]
     },
     "metadata": {},
     "output_type": "display_data"
    },
    {
     "data": {
      "text/html": [
       "<pre style=\"white-space:pre;overflow-x:auto;line-height:normal;font-family:Menlo,'DejaVu Sans Mono',consolas,'Courier New',monospace\"></pre>\n"
      ],
      "text/plain": []
     },
     "metadata": {},
     "output_type": "display_data"
    },
    {
     "data": {
      "text/html": [
       "<pre style=\"white-space:pre;overflow-x:auto;line-height:normal;font-family:Menlo,'DejaVu Sans Mono',consolas,'Courier New',monospace\">  <span style=\"font-weight: bold\"> 12</span>   0.001         <span style=\"color: #800000; text-decoration-color: #800000; font-weight: bold\">0.053</span>          <span style=\"color: #000080; text-decoration-color: #000080; font-weight: bold\">0.046</span>             \n",
       "</pre>\n"
      ],
      "text/plain": [
       "  \u001b[1m 12\u001b[0m   0.001         \u001b[1;31m0.053\u001b[0m          \u001b[1;34m0.046\u001b[0m             \n"
      ]
     },
     "metadata": {},
     "output_type": "display_data"
    },
    {
     "data": {
      "application/vnd.jupyter.widget-view+json": {
       "model_id": "",
       "version_major": 2,
       "version_minor": 0
      },
      "text/plain": [
       "Output()"
      ]
     },
     "metadata": {},
     "output_type": "display_data"
    },
    {
     "data": {
      "text/html": [
       "<pre style=\"white-space:pre;overflow-x:auto;line-height:normal;font-family:Menlo,'DejaVu Sans Mono',consolas,'Courier New',monospace\"></pre>\n"
      ],
      "text/plain": []
     },
     "metadata": {},
     "output_type": "display_data"
    },
    {
     "data": {
      "text/html": [
       "<pre style=\"white-space:pre;overflow-x:auto;line-height:normal;font-family:Menlo,'DejaVu Sans Mono',consolas,'Courier New',monospace\">  <span style=\"font-weight: bold\"> 13</span>   0.001         <span style=\"color: #800000; text-decoration-color: #800000; font-weight: bold\">0.053</span>          <span style=\"color: #000080; text-decoration-color: #000080; font-weight: bold\">0.047</span>             \n",
       "</pre>\n"
      ],
      "text/plain": [
       "  \u001b[1m 13\u001b[0m   0.001         \u001b[1;31m0.053\u001b[0m          \u001b[1;34m0.047\u001b[0m             \n"
      ]
     },
     "metadata": {},
     "output_type": "display_data"
    },
    {
     "data": {
      "application/vnd.jupyter.widget-view+json": {
       "model_id": "",
       "version_major": 2,
       "version_minor": 0
      },
      "text/plain": [
       "Output()"
      ]
     },
     "metadata": {},
     "output_type": "display_data"
    },
    {
     "data": {
      "text/html": [
       "<pre style=\"white-space:pre;overflow-x:auto;line-height:normal;font-family:Menlo,'DejaVu Sans Mono',consolas,'Courier New',monospace\"></pre>\n"
      ],
      "text/plain": []
     },
     "metadata": {},
     "output_type": "display_data"
    },
    {
     "data": {
      "text/html": [
       "<pre style=\"white-space:pre;overflow-x:auto;line-height:normal;font-family:Menlo,'DejaVu Sans Mono',consolas,'Courier New',monospace\">  <span style=\"font-weight: bold\"> 14</span>   0.001         <span style=\"color: #800000; text-decoration-color: #800000; font-weight: bold\">0.053</span>          <span style=\"color: #000080; text-decoration-color: #000080; font-weight: bold\">0.046</span>             \n",
       "</pre>\n"
      ],
      "text/plain": [
       "  \u001b[1m 14\u001b[0m   0.001         \u001b[1;31m0.053\u001b[0m          \u001b[1;34m0.046\u001b[0m             \n"
      ]
     },
     "metadata": {},
     "output_type": "display_data"
    },
    {
     "data": {
      "application/vnd.jupyter.widget-view+json": {
       "model_id": "",
       "version_major": 2,
       "version_minor": 0
      },
      "text/plain": [
       "Output()"
      ]
     },
     "metadata": {},
     "output_type": "display_data"
    },
    {
     "data": {
      "text/html": [
       "<pre style=\"white-space:pre;overflow-x:auto;line-height:normal;font-family:Menlo,'DejaVu Sans Mono',consolas,'Courier New',monospace\"></pre>\n"
      ],
      "text/plain": []
     },
     "metadata": {},
     "output_type": "display_data"
    },
    {
     "data": {
      "text/html": [
       "<pre style=\"white-space:pre;overflow-x:auto;line-height:normal;font-family:Menlo,'DejaVu Sans Mono',consolas,'Courier New',monospace\">  <span style=\"font-weight: bold\"> 15</span>   0.001         <span style=\"color: #800000; text-decoration-color: #800000; font-weight: bold\">0.053</span>          <span style=\"color: #000080; text-decoration-color: #000080; font-weight: bold\">0.046</span>             \n",
       "</pre>\n"
      ],
      "text/plain": [
       "  \u001b[1m 15\u001b[0m   0.001         \u001b[1;31m0.053\u001b[0m          \u001b[1;34m0.046\u001b[0m             \n"
      ]
     },
     "metadata": {},
     "output_type": "display_data"
    },
    {
     "data": {
      "application/vnd.jupyter.widget-view+json": {
       "model_id": "",
       "version_major": 2,
       "version_minor": 0
      },
      "text/plain": [
       "Output()"
      ]
     },
     "metadata": {},
     "output_type": "display_data"
    },
    {
     "data": {
      "text/html": [
       "<pre style=\"white-space:pre;overflow-x:auto;line-height:normal;font-family:Menlo,'DejaVu Sans Mono',consolas,'Courier New',monospace\"></pre>\n"
      ],
      "text/plain": []
     },
     "metadata": {},
     "output_type": "display_data"
    },
    {
     "data": {
      "text/html": [
       "<pre style=\"white-space:pre;overflow-x:auto;line-height:normal;font-family:Menlo,'DejaVu Sans Mono',consolas,'Courier New',monospace\">  <span style=\"font-weight: bold\"> 16</span>   0.001         <span style=\"color: #800000; text-decoration-color: #800000; font-weight: bold\">0.053</span>          <span style=\"color: #000080; text-decoration-color: #000080; font-weight: bold\">0.047</span>             \n",
       "</pre>\n"
      ],
      "text/plain": [
       "  \u001b[1m 16\u001b[0m   0.001         \u001b[1;31m0.053\u001b[0m          \u001b[1;34m0.047\u001b[0m             \n"
      ]
     },
     "metadata": {},
     "output_type": "display_data"
    },
    {
     "data": {
      "application/vnd.jupyter.widget-view+json": {
       "model_id": "",
       "version_major": 2,
       "version_minor": 0
      },
      "text/plain": [
       "Output()"
      ]
     },
     "metadata": {},
     "output_type": "display_data"
    },
    {
     "data": {
      "text/html": [
       "<pre style=\"white-space:pre;overflow-x:auto;line-height:normal;font-family:Menlo,'DejaVu Sans Mono',consolas,'Courier New',monospace\"></pre>\n"
      ],
      "text/plain": []
     },
     "metadata": {},
     "output_type": "display_data"
    },
    {
     "data": {
      "text/html": [
       "<pre style=\"white-space:pre;overflow-x:auto;line-height:normal;font-family:Menlo,'DejaVu Sans Mono',consolas,'Courier New',monospace\">  <span style=\"font-weight: bold\"> 17</span>   0.000         <span style=\"color: #800000; text-decoration-color: #800000; font-weight: bold\">0.053</span>          <span style=\"color: #000080; text-decoration-color: #000080; font-weight: bold\">0.047</span>             \n",
       "</pre>\n"
      ],
      "text/plain": [
       "  \u001b[1m 17\u001b[0m   0.000         \u001b[1;31m0.053\u001b[0m          \u001b[1;34m0.047\u001b[0m             \n"
      ]
     },
     "metadata": {},
     "output_type": "display_data"
    },
    {
     "data": {
      "application/vnd.jupyter.widget-view+json": {
       "model_id": "",
       "version_major": 2,
       "version_minor": 0
      },
      "text/plain": [
       "Output()"
      ]
     },
     "metadata": {},
     "output_type": "display_data"
    },
    {
     "data": {
      "text/html": [
       "<pre style=\"white-space:pre;overflow-x:auto;line-height:normal;font-family:Menlo,'DejaVu Sans Mono',consolas,'Courier New',monospace\"></pre>\n"
      ],
      "text/plain": []
     },
     "metadata": {},
     "output_type": "display_data"
    },
    {
     "data": {
      "text/html": [
       "<pre style=\"white-space:pre;overflow-x:auto;line-height:normal;font-family:Menlo,'DejaVu Sans Mono',consolas,'Courier New',monospace\">  <span style=\"font-weight: bold\"> 18</span>   0.000         <span style=\"color: #800000; text-decoration-color: #800000; font-weight: bold\">0.053</span>          <span style=\"color: #000080; text-decoration-color: #000080; font-weight: bold\">0.046</span>             \n",
       "</pre>\n"
      ],
      "text/plain": [
       "  \u001b[1m 18\u001b[0m   0.000         \u001b[1;31m0.053\u001b[0m          \u001b[1;34m0.046\u001b[0m             \n"
      ]
     },
     "metadata": {},
     "output_type": "display_data"
    },
    {
     "data": {
      "application/vnd.jupyter.widget-view+json": {
       "model_id": "",
       "version_major": 2,
       "version_minor": 0
      },
      "text/plain": [
       "Output()"
      ]
     },
     "metadata": {},
     "output_type": "display_data"
    },
    {
     "data": {
      "text/html": [
       "<pre style=\"white-space:pre;overflow-x:auto;line-height:normal;font-family:Menlo,'DejaVu Sans Mono',consolas,'Courier New',monospace\"></pre>\n"
      ],
      "text/plain": []
     },
     "metadata": {},
     "output_type": "display_data"
    },
    {
     "data": {
      "text/html": [
       "<pre style=\"white-space:pre;overflow-x:auto;line-height:normal;font-family:Menlo,'DejaVu Sans Mono',consolas,'Courier New',monospace\">  <span style=\"font-weight: bold\"> 19</span>   0.000         <span style=\"color: #800000; text-decoration-color: #800000; font-weight: bold\">0.052</span>          <span style=\"color: #000080; text-decoration-color: #000080; font-weight: bold\">0.047</span>             \n",
       "</pre>\n"
      ],
      "text/plain": [
       "  \u001b[1m 19\u001b[0m   0.000         \u001b[1;31m0.052\u001b[0m          \u001b[1;34m0.047\u001b[0m             \n"
      ]
     },
     "metadata": {},
     "output_type": "display_data"
    },
    {
     "data": {
      "application/vnd.jupyter.widget-view+json": {
       "model_id": "",
       "version_major": 2,
       "version_minor": 0
      },
      "text/plain": [
       "Output()"
      ]
     },
     "metadata": {},
     "output_type": "display_data"
    },
    {
     "data": {
      "text/html": [
       "<pre style=\"white-space:pre;overflow-x:auto;line-height:normal;font-family:Menlo,'DejaVu Sans Mono',consolas,'Courier New',monospace\"></pre>\n"
      ],
      "text/plain": []
     },
     "metadata": {},
     "output_type": "display_data"
    },
    {
     "data": {
      "text/html": [
       "<pre style=\"white-space:pre;overflow-x:auto;line-height:normal;font-family:Menlo,'DejaVu Sans Mono',consolas,'Courier New',monospace\">  <span style=\"font-weight: bold\"> 20</span>   0.000         <span style=\"color: #800000; text-decoration-color: #800000; font-weight: bold\">0.053</span>          <span style=\"color: #000080; text-decoration-color: #000080; font-weight: bold\">0.046</span>             \n",
       "</pre>\n"
      ],
      "text/plain": [
       "  \u001b[1m 20\u001b[0m   0.000         \u001b[1;31m0.053\u001b[0m          \u001b[1;34m0.046\u001b[0m             \n"
      ]
     },
     "metadata": {},
     "output_type": "display_data"
    }
   ],
   "source": [
    "from quantnn.models.pytorch import BatchedDataset\n",
    "from quantnn.models.pytorch.logging import TensorBoardLogger\n",
    "from torch.optim import Adam\n",
    "\n",
    "training_data = BatchedDataset((x_train, y_train), 4)\n",
    "validation_data = BatchedDataset((x_val, y_val), 4)\n",
    "n_epochs = 20\n",
    "\n",
    "# Set this explicitly \n",
    "log_directory = None\n",
    "logger = TensorBoardLogger(n_epochs,\n",
    "                           log_directory=log_directory)\n",
    "qrnn.train(training_data=training_data,\n",
    "           validation_data=validation_data,\n",
    "           n_epochs=n_epochs,\n",
    "           mask=-1,\n",
    "           device=\"gpu\",\n",
    "           logger=logger,\n",
    "           optimizer=Adam(model_fc.parameters(), lr=0.01),\n",
    "           metrics=[\"Calibration\"]);"
   ]
  },
  {
   "cell_type": "markdown",
   "metadata": {
    "id": "CUVKdn8w-7y6"
   },
   "source": [
    "## Tracking progress on a specific input\n",
    "\n",
    "By default, the tensor board logger will log only training and validaiton error. Custom data can be logged using a callback hook (defined by the ``epoch_begin_callback`` attributed of the ``TensorBoardLogger`` class) that is called at the beginning of each epoch.\n",
    "\n",
    "\n",
    "The ``epoch_begin_callback`` is expected to have the following signature:\n",
    "\n",
    "\n",
    "````python\n",
    "def epoch_begin_callback(model, writer, epoch_index):\n",
    "````\n",
    "where the arguments correspond to the following\n",
    "- ``model``: The PyTorch model that is trained in its current state.\n",
    "- ``writer``: The  [SummaryWriter](https://pytorch.org/docs/stable/tensorboard.html)  that is used to log data for the current training session.\n",
    "                \n",
    "- ``epoch_index``: The index (zero-based) of the current epoch.\n",
    "        \n",
    "The example below illustrates how this functionality can be used to track the prediction on a specific input at the beginning of each epoch:"
   ]
  },
  {
   "cell_type": "code",
   "execution_count": 6,
   "metadata": {},
   "outputs": [],
   "source": [
    "x = x_val[:1]\n",
    "y = y_val[:1]\n",
    "\n",
    "def make_prediction(writer, model, epoch_index):\n",
    "    \"\"\"\n",
    "    Predicts the mean precipitation rate on the first sample\n",
    "    from the validation set.\n",
    "    \n",
    "    Args:\n",
    "        writer: The SummaryWriter object that is used to log\n",
    "             to the tensbor board.\n",
    "        model: The model attributed of the qrnn object being\n",
    "            trained.\n",
    "        epoch_index: The index (zero-based) of the current\n",
    "            epoch.\n",
    "    \"\"\"\n",
    "    # Make prediction\n",
    "    y_mean = qrnn.posterior_mean(x)\n",
    "    # Store output using add_image function of SummaryWriter\n",
    "    writer.add_image(\"predicted_rain_rate\", y_mean, epoch_index)\n",
    "    \n",
    "    # Store reference imager using add_image function of\n",
    "    # SummaryWriter. No need to store for every epoch.\n",
    "    writer.add_image(\"reference_rain_rate\", y, 0)"
   ]
  },
  {
   "cell_type": "code",
   "execution_count": 7,
   "metadata": {},
   "outputs": [
    {
     "name": "stderr",
     "output_type": "stream",
     "text": [
      "WARNING:absl:No GPU/TPU found, falling back to CPU. (Set TF_CPP_MIN_LOG_LEVEL=0 and rerun for more info.)\n"
     ]
    },
    {
     "data": {
      "application/vnd.jupyter.widget-view+json": {
       "model_id": "",
       "version_major": 2,
       "version_minor": 0
      },
      "text/plain": [
       "Output()"
      ]
     },
     "metadata": {},
     "output_type": "display_data"
    },
    {
     "data": {
      "text/html": [
       "<pre style=\"white-space:pre;overflow-x:auto;line-height:normal;font-family:Menlo,'DejaVu Sans Mono',consolas,'Courier New',monospace\"></pre>\n"
      ],
      "text/plain": []
     },
     "metadata": {},
     "output_type": "display_data"
    },
    {
     "data": {
      "text/html": [
       "<pre style=\"white-space:pre;overflow-x:auto;line-height:normal;font-family:Menlo,'DejaVu Sans Mono',consolas,'Courier New',monospace\"><span style=\"font-style: italic\">                                                       </span>\n",
       "<span style=\"font-style: italic\">                                                       </span>\n",
       "<span style=\"font-style: italic\">                    Training history                   </span>\n",
       "<span style=\"font-style: italic\">                                                       </span>\n",
       "<span style=\"font-weight: bold\">    Epoch     </span> <span style=\"font-weight: bold\"> </span><span style=\"color: #800000; text-decoration-color: #800000; font-weight: bold\">  Training loss   </span><span style=\"font-weight: bold\"> </span> <span style=\"font-weight: bold\"> </span><span style=\"color: #000080; text-decoration-color: #000080; font-weight: bold\"> Validation loss </span><span style=\"font-weight: bold\"> </span>\n",
       "───────────────────────────────────────────────────────\n",
       "   <span style=\"font-weight: bold\">#</span>     LR           <span style=\"color: #800000; text-decoration-color: #800000; font-weight: bold\">Total</span>          <span style=\"color: #000080; text-decoration-color: #000080; font-weight: bold\">Total</span>             \n",
       "                                                       \n",
       "</pre>\n"
      ],
      "text/plain": [
       "\u001b[3m                                                       \u001b[0m\n",
       "\u001b[3m                                                       \u001b[0m\n",
       "\u001b[3m                    Training history                   \u001b[0m\n",
       "\u001b[3m                                                       \u001b[0m\n",
       "\u001b[1m \u001b[0m\u001b[1m   Epoch    \u001b[0m\u001b[1m \u001b[0m \u001b[1m \u001b[0m\u001b[1;31m  Training loss   \u001b[0m\u001b[1m \u001b[0m \u001b[1m \u001b[0m\u001b[1;34m Validation loss \u001b[0m\u001b[1m \u001b[0m\n",
       "───────────────────────────────────────────────────────\n",
       "   \u001b[1m#\u001b[0m     LR           \u001b[1;31mTotal\u001b[0m          \u001b[1;34mTotal\u001b[0m             \n",
       "                                                       \n"
      ]
     },
     "metadata": {},
     "output_type": "display_data"
    },
    {
     "data": {
      "text/html": [
       "<pre style=\"white-space:pre;overflow-x:auto;line-height:normal;font-family:Menlo,'DejaVu Sans Mono',consolas,'Courier New',monospace\">  <span style=\"font-weight: bold\">  1</span>   0.010         <span style=\"color: #800000; text-decoration-color: #800000; font-weight: bold\">0.053</span>          <span style=\"color: #000080; text-decoration-color: #000080; font-weight: bold\">0.047</span>             \n",
       "</pre>\n"
      ],
      "text/plain": [
       "  \u001b[1m  1\u001b[0m   0.010         \u001b[1;31m0.053\u001b[0m          \u001b[1;34m0.047\u001b[0m             \n"
      ]
     },
     "metadata": {},
     "output_type": "display_data"
    },
    {
     "data": {
      "application/vnd.jupyter.widget-view+json": {
       "model_id": "",
       "version_major": 2,
       "version_minor": 0
      },
      "text/plain": [
       "Output()"
      ]
     },
     "metadata": {},
     "output_type": "display_data"
    },
    {
     "data": {
      "text/html": [
       "<pre style=\"white-space:pre;overflow-x:auto;line-height:normal;font-family:Menlo,'DejaVu Sans Mono',consolas,'Courier New',monospace\"></pre>\n"
      ],
      "text/plain": []
     },
     "metadata": {},
     "output_type": "display_data"
    },
    {
     "data": {
      "text/html": [
       "<pre style=\"white-space:pre;overflow-x:auto;line-height:normal;font-family:Menlo,'DejaVu Sans Mono',consolas,'Courier New',monospace\">  <span style=\"font-weight: bold\">  2</span>   0.010         <span style=\"color: #800000; text-decoration-color: #800000; font-weight: bold\">0.053</span>          <span style=\"color: #000080; text-decoration-color: #000080; font-weight: bold\">0.047</span>             \n",
       "</pre>\n"
      ],
      "text/plain": [
       "  \u001b[1m  2\u001b[0m   0.010         \u001b[1;31m0.053\u001b[0m          \u001b[1;34m0.047\u001b[0m             \n"
      ]
     },
     "metadata": {},
     "output_type": "display_data"
    },
    {
     "data": {
      "application/vnd.jupyter.widget-view+json": {
       "model_id": "",
       "version_major": 2,
       "version_minor": 0
      },
      "text/plain": [
       "Output()"
      ]
     },
     "metadata": {},
     "output_type": "display_data"
    },
    {
     "data": {
      "text/html": [
       "<pre style=\"white-space:pre;overflow-x:auto;line-height:normal;font-family:Menlo,'DejaVu Sans Mono',consolas,'Courier New',monospace\"></pre>\n"
      ],
      "text/plain": []
     },
     "metadata": {},
     "output_type": "display_data"
    },
    {
     "data": {
      "text/html": [
       "<pre style=\"white-space:pre;overflow-x:auto;line-height:normal;font-family:Menlo,'DejaVu Sans Mono',consolas,'Courier New',monospace\">  <span style=\"font-weight: bold\">  3</span>   0.010         <span style=\"color: #800000; text-decoration-color: #800000; font-weight: bold\">0.053</span>          <span style=\"color: #000080; text-decoration-color: #000080; font-weight: bold\">0.047</span>             \n",
       "</pre>\n"
      ],
      "text/plain": [
       "  \u001b[1m  3\u001b[0m   0.010         \u001b[1;31m0.053\u001b[0m          \u001b[1;34m0.047\u001b[0m             \n"
      ]
     },
     "metadata": {},
     "output_type": "display_data"
    },
    {
     "data": {
      "application/vnd.jupyter.widget-view+json": {
       "model_id": "",
       "version_major": 2,
       "version_minor": 0
      },
      "text/plain": [
       "Output()"
      ]
     },
     "metadata": {},
     "output_type": "display_data"
    },
    {
     "data": {
      "text/html": [
       "<pre style=\"white-space:pre;overflow-x:auto;line-height:normal;font-family:Menlo,'DejaVu Sans Mono',consolas,'Courier New',monospace\"></pre>\n"
      ],
      "text/plain": []
     },
     "metadata": {},
     "output_type": "display_data"
    },
    {
     "data": {
      "text/html": [
       "<pre style=\"white-space:pre;overflow-x:auto;line-height:normal;font-family:Menlo,'DejaVu Sans Mono',consolas,'Courier New',monospace\">  <span style=\"font-weight: bold\">  4</span>   0.010         <span style=\"color: #800000; text-decoration-color: #800000; font-weight: bold\">0.053</span>          <span style=\"color: #000080; text-decoration-color: #000080; font-weight: bold\">0.046</span>             \n",
       "</pre>\n"
      ],
      "text/plain": [
       "  \u001b[1m  4\u001b[0m   0.010         \u001b[1;31m0.053\u001b[0m          \u001b[1;34m0.046\u001b[0m             \n"
      ]
     },
     "metadata": {},
     "output_type": "display_data"
    },
    {
     "data": {
      "application/vnd.jupyter.widget-view+json": {
       "model_id": "",
       "version_major": 2,
       "version_minor": 0
      },
      "text/plain": [
       "Output()"
      ]
     },
     "metadata": {},
     "output_type": "display_data"
    },
    {
     "data": {
      "text/html": [
       "<pre style=\"white-space:pre;overflow-x:auto;line-height:normal;font-family:Menlo,'DejaVu Sans Mono',consolas,'Courier New',monospace\"></pre>\n"
      ],
      "text/plain": []
     },
     "metadata": {},
     "output_type": "display_data"
    },
    {
     "data": {
      "text/html": [
       "<pre style=\"white-space:pre;overflow-x:auto;line-height:normal;font-family:Menlo,'DejaVu Sans Mono',consolas,'Courier New',monospace\">  <span style=\"font-weight: bold\">  5</span>   0.010         <span style=\"color: #800000; text-decoration-color: #800000; font-weight: bold\">0.053</span>          <span style=\"color: #000080; text-decoration-color: #000080; font-weight: bold\">0.046</span>             \n",
       "</pre>\n"
      ],
      "text/plain": [
       "  \u001b[1m  5\u001b[0m   0.010         \u001b[1;31m0.053\u001b[0m          \u001b[1;34m0.046\u001b[0m             \n"
      ]
     },
     "metadata": {},
     "output_type": "display_data"
    }
   ],
   "source": [
    "from quantnn.models.pytorch import BatchedDataset\n",
    "from quantnn.models.pytorch.logging import TensorBoardLogger\n",
    "\n",
    "\n",
    "training_data = BatchedDataset((x_train, y_train), 4)\n",
    "validation_data = BatchedDataset((x_val, y_val), 4)\n",
    "n_epochs = 5\n",
    "logger = TensorBoardLogger(n_epochs,\n",
    "                           log_directory=None,\n",
    "                           epoch_begin_callback=make_prediction)\n",
    "qrnn.train(training_data=training_data,\n",
    "           validation_data=validation_data,\n",
    "           n_epochs=n_epochs,\n",
    "           mask=-1,\n",
    "           device=\"gpu\",\n",
    "              logger=logger);"
   ]
  }
 ],
 "metadata": {
  "accelerator": "GPU",
  "colab": {
   "name": "convolutional_rain_rate_retrieval.ipynb",
   "provenance": []
  },
  "kernelspec": {
   "display_name": "Python 3",
   "language": "python",
   "name": "python3"
  },
  "language_info": {
   "codemirror_mode": {
    "name": "ipython",
    "version": 3
   },
   "file_extension": ".py",
   "mimetype": "text/x-python",
   "name": "python",
   "nbconvert_exporter": "python",
   "pygments_lexer": "ipython3",
   "version": "3.7.4"
  }
 },
 "nbformat": 4,
 "nbformat_minor": 1
}

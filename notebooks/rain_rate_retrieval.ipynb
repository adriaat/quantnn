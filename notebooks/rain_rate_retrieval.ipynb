{
 "cells": [
  {
   "cell_type": "markdown",
   "metadata": {},
   "source": [
    "# GPROF rain rate retrieval\n",
    "\n",
    "In this notebook we will apply QRNNs to retrieval rain rates from passive microwave observations from the Global Precipitation Measurement (GPM) mission. We will then use the model to classify pixels based on their rain rate and compare the performance of the classifier to that of the current algorithm. "
   ]
  },
  {
   "cell_type": "code",
   "execution_count": 1,
   "metadata": {},
   "outputs": [],
   "source": [
    "%load_ext autoreload\n",
    "%autoreload 2\n",
    "import numpy as np\n",
    "import matplotlib.pyplot as plt\n",
    "from quantnn.examples.gprof_rr import GPROFDataset, download_data\n",
    "download_data()"
   ]
  },
  {
   "cell_type": "markdown",
   "metadata": {},
   "source": [
    "## The Data\n",
    "\n",
    "The input data consists of single-pixel observations from the GMI radiometer combined with the surface type, column-integrated water vapor and two-meter temperature. Expanding the 14 surface types to one-hot encoding results in 29 input features.\n",
    "\n",
    "The output data consists of surface rain rates, which are, for the largest part, derived from GMI observations combined with the precipitation radar, which is flown together with GMI on board the GPM Core Observatory satellite. The combined radar-radiometer observations improve the accuracy of the rain retrieval, which is why this data is suitable to be used as ground truth."
   ]
  },
  {
   "cell_type": "code",
   "execution_count": 2,
   "metadata": {},
   "outputs": [],
   "source": [
    "training_data = GPROFDataset(\"data/training_data_gmi_small.nc\", batch_size=128)\n",
    "validation_data = GPROFDataset(\"data/training_data_gmi_small.nc\", batch_size=128, normalizer=training_data.normalizer)"
   ]
  },
  {
   "cell_type": "code",
   "execution_count": 5,
   "metadata": {},
   "outputs": [],
   "source": [
    "from torch.utils.data import DataLoader\n",
    "training_loader = DataLoader(training_data, batch_size=None, num_workers=2)\n",
    "validation_loader = DataLoader(validation_data, batch_size=None, num_workers=2)"
   ]
  },
  {
   "cell_type": "markdown",
   "metadata": {},
   "source": [
    "## Defining a QRNN model"
   ]
  },
  {
   "cell_type": "code",
   "execution_count": 8,
   "metadata": {},
   "outputs": [],
   "source": [
    "import quantnn as qn\n",
    "quantiles = [0.01, 0.05, 0.15, 0.25, 0.35, 0.45, 0.5, 0.55, 0.65, 0.75, 0.85, 0.95, 0.99]\n",
    "qrnn = qn.QRNN(n_inputs=29, quantiles=quantiles, model=(4, 256, \"relu\"))"
   ]
  },
  {
   "cell_type": "markdown",
   "metadata": {},
   "source": [
    "## Training the QRNN"
   ]
  },
  {
   "cell_type": "code",
   "execution_count": 13,
   "metadata": {},
   "outputs": [
    {
     "name": "stdout",
     "output_type": "stream",
     "text": [
      "Epoch  1 / 10: train. loss = 0.0199, val. loss = 0.0182, lr. = 0.1000, time = 59.254601 s\n",
      "Epoch  2 / 10: train. loss = 0.0088, val. loss = 0.0178, lr. = 0.0976, time = 59.139654 s\n",
      "Epoch  3 / 10: train. loss = 0.0057, val. loss = 0.0174, lr. = 0.0905, time = 58.889094 s\n",
      "Epoch  4 / 10: train. loss = 0.0041, val. loss = 0.0171, lr. = 0.0794, time = 59.745256 s\n",
      "Epoch  5 / 10: train. loss = 0.0032, val. loss = 0.0168, lr. = 0.0655, time = 59.312547 s\n",
      "Epoch  6 / 10: train. loss = 0.0026, val. loss = 0.0166, lr. = 0.0500, time = 59.022876 s\n",
      "Epoch  7 / 10: train. loss = 0.0022, val. loss = 0.0164, lr. = 0.0345, time = 59.336401 s\n",
      "Epoch  8 / 10: train. loss = 0.0019, val. loss = 0.0162, lr. = 0.0206, time = 59.849334 s\n",
      "Epoch  9 / 10: train. loss = 0.0016, val. loss = 0.0160, lr. = 0.0095, time = 59.447534 s\n",
      "Epoch 10 / 10: train. loss = 0.0014, val. loss = 0.0159, lr. = 0.0024, time = 64.255894 s\n",
      "Epoch  1 / 10: train. loss = 0.0146, val. loss = 0.0146, lr. = 0.0100, time = 66.628352 s\n",
      "Epoch  2 / 10: train. loss = 0.0073, val. loss = 0.0146, lr. = 0.0098, time = 80.540437 s\n",
      "Epoch  3 / 10: train. loss = 0.0048, val. loss = 0.0145, lr. = 0.0090, time = 92.73523 s\n",
      "Epoch  4 / 10: train. loss = 0.0036, val. loss = 0.0145, lr. = 0.0079, time = 91.705732 s\n",
      "Epoch  5 / 10: train. loss = 0.0029, val. loss = 0.0145, lr. = 0.0065, time = 91.646508 s\n",
      "Epoch  6 / 10: train. loss = 0.0024, val. loss = 0.0145, lr. = 0.0050, time = 94.30637 s\n",
      "Epoch  7 / 10: train. loss = 0.0020, val. loss = 0.0144, lr. = 0.0035, time = 91.600708 s\n",
      "Epoch  8 / 10: train. loss = 0.0018, val. loss = 0.0144, lr. = 0.0021, time = 93.325788 s\n",
      "Epoch  9 / 10: train. loss = 0.0016, val. loss = 0.0144, lr. = 0.0010, time = 92.620242 s\n",
      "Epoch 10 / 10: train. loss = 0.0014, val. loss = 0.0144, lr. = 0.0002, time = 92.379539 s\n",
      "Epoch  1 / 10: train. loss = 0.0142, val. loss = 0.0142, lr. = 0.0010, time = 87.596692 s\n",
      "Epoch  2 / 10: train. loss = 0.0071, val. loss = 0.0142, lr. = 0.0010, time = 87.857908 s\n",
      "Epoch  3 / 10: train. loss = 0.0047, val. loss = 0.0142, lr. = 0.0009, time = 56.693115 s\n",
      "Epoch  4 / 10: train. loss = 0.0036, val. loss = 0.0142, lr. = 0.0008, time = 55.74428 s\n",
      "Epoch  5 / 10: train. loss = 0.0028, val. loss = 0.0142, lr. = 0.0007, time = 55.917186 s\n",
      "Epoch  6 / 10: train. loss = 0.0024, val. loss = 0.0142, lr. = 0.0005, time = 55.959979 s\n",
      "Epoch  7 / 10: train. loss = 0.0020, val. loss = 0.0142, lr. = 0.0003, time = 55.454179 s\n",
      "Epoch  8 / 10: train. loss = 0.0018, val. loss = 0.0142, lr. = 0.0002, time = 56.40796 s\n",
      "Epoch  9 / 10: train. loss = 0.0016, val. loss = 0.0142, lr. = 0.0001, time = 56.415023 s\n",
      "Epoch 10 / 10: train. loss = 0.0014, val. loss = 0.0142, lr. = 0.0000, time = 56.99451 s\n"
     ]
    },
    {
     "data": {
      "text/plain": [
       "{'training_errors': [0.019948004694297975,\n",
       "  0.017648166606355726,\n",
       "  0.01701305960740879,\n",
       "  0.016531991458182044,\n",
       "  0.016093663923778617,\n",
       "  0.015681159966772704,\n",
       "  0.015294057761837182,\n",
       "  0.014946049410667113,\n",
       "  0.014660345286738128,\n",
       "  0.014477672078101455,\n",
       "  0.014614694721862073,\n",
       "  0.014580625959539502,\n",
       "  0.014534846857616947,\n",
       "  0.014481977395559339,\n",
       "  0.014424657759352791,\n",
       "  0.014366437424525976,\n",
       "  0.01431132228796154,\n",
       "  0.014266319587392322,\n",
       "  0.014234440058293146,\n",
       "  0.014217459829932323,\n",
       "  0.014213191504794028,\n",
       "  0.01421223363187529,\n",
       "  0.014211306812756884,\n",
       "  0.014210533920387075,\n",
       "  0.01420987739627937,\n",
       "  0.014209341782794316,\n",
       "  0.014208891608975661,\n",
       "  0.014208533086625707,\n",
       "  0.014208186663889637,\n",
       "  0.014207917396836484],\n",
       " 'validation_errors': [0.018157585221479002,\n",
       "  0.017527116234554344,\n",
       "  0.016420738467731434,\n",
       "  0.016245837121299518,\n",
       "  0.0158125239111178,\n",
       "  0.015529636302681421,\n",
       "  0.015088134953796009,\n",
       "  0.014824849606465835,\n",
       "  0.01466377485733555,\n",
       "  0.014459235399609473,\n",
       "  0.014557601424607472,\n",
       "  0.014569145746202524,\n",
       "  0.014468377320671428,\n",
       "  0.014450658259025032,\n",
       "  0.014416017001973267,\n",
       "  0.014353349736890784,\n",
       "  0.014299232469693527,\n",
       "  0.014261511944871148,\n",
       "  0.014231485149502949,\n",
       "  0.014215774906881088,\n",
       "  0.014213371481458374,\n",
       "  0.014212413750824944,\n",
       "  0.014211590238883014,\n",
       "  0.01421077860445451,\n",
       "  0.014209939865946484,\n",
       "  0.014209202434057265,\n",
       "  0.014208567667724322,\n",
       "  0.014208110919346225,\n",
       "  0.014207887025928526,\n",
       "  0.014207859385787159]}"
      ]
     },
     "execution_count": 13,
     "metadata": {},
     "output_type": "execute_result"
    }
   ],
   "source": [
    "import torch\n",
    "n_epochs = 10\n",
    "optimizer = torch.optim.SGD(qrnn.model.parameters(), lr=0.1, momentum=0.9)\n",
    "scheduler = torch.optim.lr_scheduler.CosineAnnealingLR(optimizer, n_epochs)\n",
    "qrnn.train(training_loader,\n",
    "           validation_loader,\n",
    "           optimizer=optimizer,\n",
    "           scheduler=scheduler,\n",
    "           n_epochs=n_epochs,\n",
    "           device=\"gpu\")\n",
    "optimizer = torch.optim.SGD(qrnn.model.parameters(), lr=0.01, momentum=0.9)\n",
    "scheduler = torch.optim.lr_scheduler.CosineAnnealingLR(optimizer, n_epochs)\n",
    "qrnn.train(training_loader,\n",
    "           validation_loader,\n",
    "           optimizer=optimizer,\n",
    "           scheduler=scheduler,\n",
    "           n_epochs=n_epochs,\n",
    "           device=\"gpu\")\n",
    "optimizer = torch.optim.SGD(qrnn.model.parameters(), lr=0.001)\n",
    "scheduler = torch.optim.lr_scheduler.CosineAnnealingLR(optimizer, n_epochs)\n",
    "qrnn.train(training_loader,\n",
    "           validation_loader,\n",
    "           optimizer=optimizer,\n",
    "           scheduler=scheduler,\n",
    "           n_epochs=n_epochs,\n",
    "           device=\"gpu\")"
   ]
  },
  {
   "cell_type": "markdown",
   "metadata": {},
   "source": [
    "## Classifying raining pixels\n",
    "\n",
    "We will test our retrieval by using it to predict whether the rain rate at a given pixel is larger than a threshold of $0.01\\ \\text{mm/h}$. The estimated probability of a given pixel being larger than this value is also part of the GPROF retrieval output and we will use this output to evaluate the QRNN retrieval."
   ]
  },
  {
   "cell_type": "code",
   "execution_count": 21,
   "metadata": {},
   "outputs": [],
   "source": [
    "import quantnn as q\n",
    "from quantnn.examples.gprof_rr import GPROFTestset\n",
    "test_data = GPROFTestset(\"data/test_data_gmi_small.nc\", normalizer=training_data.normalizer)\n",
    "p_qrnn = qrnn.probability_larger_than(test_data.x, 0.01).detach().numpy()\n",
    "p_gprof = test_data.y_pop / 100.0\n",
    "truth = test_data.y.ravel() > 0.01"
   ]
  },
  {
   "cell_type": "code",
   "execution_count": 22,
   "metadata": {},
   "outputs": [
    {
     "name": "stderr",
     "output_type": "stream",
     "text": [
      "/home/simonpf/build/anaconda3/lib/python3.7/site-packages/ipykernel_launcher.py:7: RuntimeWarning: invalid value encountered in long_scalars\n",
      "  import sys\n"
     ]
    }
   ],
   "source": [
    "def precision_and_recall_curve(p_pred, truth, n=101):\n",
    "    ps = np.linspace(0, 1, n)\n",
    "    precision = np.zeros(n)\n",
    "    recall = np.zeros(n)\n",
    "    for i, p in enumerate(ps):\n",
    "        predicted = p_pred > p\n",
    "        precision[i] = np.sum(predicted * truth) / np.sum(predicted)\n",
    "        recall[i] = np.sum(predicted * truth) / np.sum(truth)\n",
    "    return precision, recall\n",
    "\n",
    "precision_qrnn, recall_qrnn = precision_and_recall_curve(p_qrnn, truth)\n",
    "precision_gprof, recall_gprof = precision_and_recall_curve(p_gprof, truth)"
   ]
  },
  {
   "cell_type": "code",
   "execution_count": 23,
   "metadata": {},
   "outputs": [
    {
     "data": {
      "text/plain": [
       "<matplotlib.legend.Legend at 0x7ff70b96fe50>"
      ]
     },
     "execution_count": 23,
     "metadata": {},
     "output_type": "execute_result"
    },
    {
     "data": {
      "image/png": "[encoded data removed]",
      "text/plain": [
       "<Figure size 432x288 with 1 Axes>"
      ]
     },
     "metadata": {
      "needs_background": "light"
     },
     "output_type": "display_data"
    }
   ],
   "source": [
    "f, ax = plt.subplots(1, 1)\n",
    "ax.plot(recall_qrnn, precision_qrnn, label=\"QRNN\")\n",
    "ax.plot(recall_gprof, precision_gprof, label=\"GPROF\")\n",
    "ax.set_xlabel(\"Recall\")\n",
    "ax.set_ylabel(\"Precision\")\n",
    "ax.legend()"
   ]
  }
 ],
 "metadata": {
  "kernelspec": {
   "display_name": "Python 3",
   "language": "python",
   "name": "python3"
  },
  "language_info": {
   "codemirror_mode": {
    "name": "ipython",
    "version": 3
   },
   "file_extension": ".py",
   "mimetype": "text/x-python",
   "name": "python",
   "nbconvert_exporter": "python",
   "pygments_lexer": "ipython3",
   "version": "3.7.4"
  }
 },
 "nbformat": 4,
 "nbformat_minor": 4
}

{
 "cells": [
  {
   "cell_type": "markdown",
   "metadata": {},
   "source": [
    "# GPROF rain rate retrieval\n",
    "\n",
    "In this notebook we will apply QRNNs to retrieval rain rates from passive microwave observations from the Global Precipitation Measurement (GPM) mission. We will then use the model to classify pixels based on their rain rate and compare the performance of the classifier to that of the current algorithm. "
   ]
  },
  {
   "cell_type": "code",
   "execution_count": 2,
   "metadata": {},
   "outputs": [
    {
     "name": "stdout",
     "output_type": "stream",
     "text": [
      "The autoreload extension is already loaded. To reload it, use:\n",
      "  %reload_ext autoreload\n",
      "Downloading file training_data_gmi_small.nc.\n",
      "Downloading file test_data_gmi_small.nc.\n",
      "Downloading file validation_data_gmi_small.nc.\n"
     ]
    }
   ],
   "source": [
    "%load_ext autoreload\n",
    "%autoreload 2\n",
    "import numpy as np\n",
    "import matplotlib.pyplot as plt\n",
    "from quantnn.examples.gprof_rr import GPROFDataset, download_data\n",
    "download_data()"
   ]
  },
  {
   "cell_type": "markdown",
   "metadata": {},
   "source": [
    "## The Data\n",
    "\n",
    "The input data consists of single-pixel observations from the GMI radiometer combined with the surface type, column-integrated water vapor and two-meter temperature. Expanding the 14 surface types to one-hot encoding results in 30 input features.\n",
    "\n",
    "The output data consists of surface rain rates, which were derived from GMI observations combined with the precipitation radar, which is flown together with GMI on board the GPM Core Observatory satellite. Combining the passive microwave observations with the radar observations significantly increases the accuracy of the rain retrieval, which is why this data is suitable to be used as ground truth."
   ]
  },
  {
   "cell_type": "code",
   "execution_count": 39,
   "metadata": {},
   "outputs": [],
   "source": [
    "training_data = GPROFDataset(\"data/training_data_gmi_small.nc\", batch_size=128)\n",
    "validation_data = GPROFDataset(\"data/training_data_gmi_small.nc\", batch_size=128, normalizer=training_data.normalizer)"
   ]
  },
  {
   "cell_type": "code",
   "execution_count": 40,
   "metadata": {},
   "outputs": [],
   "source": [
    "from torch.utils.data import DataLoader\n",
    "training_loader = DataLoader(training_data, batch_size=None, num_workers=2)\n",
    "validation_loader = DataLoader(training_data, batch_size=None, num_workers=2)"
   ]
  },
  {
   "cell_type": "markdown",
   "metadata": {},
   "source": [
    "## Defining a QRNN model"
   ]
  },
  {
   "cell_type": "code",
   "execution_count": 41,
   "metadata": {},
   "outputs": [],
   "source": [
    "import quantnn as qn\n",
    "qn.set_backend(\"torch\")\n",
    "quantiles = [0.01, 0.05, 0.15, 0.25, 0.35, 0.45, 0.5, 0.55, 0.65, 0.75, 0.85, 0.95, 0.99]\n",
    "qrnn = qn.QRNN(29, quantiles, model=(4, 256, \"relu\"))"
   ]
  },
  {
   "cell_type": "markdown",
   "metadata": {},
   "source": [
    "## Training the QRNN"
   ]
  },
  {
   "cell_type": "code",
   "execution_count": 43,
   "metadata": {},
   "outputs": [
    {
     "name": "stdout",
     "output_type": "stream",
     "text": [
      "Epoch 0 / 10: Training error: 0.020, Validation error: 0.019, Learning rate: 0.10000\n",
      "Epoch 1 / 10: Training error: 0.018, Validation error: 0.018, Learning rate: 0.09755\n",
      "Epoch 2 / 10: Training error: 0.017, Validation error: 0.017, Learning rate: 0.09045\n",
      "Epoch 3 / 10: Training error: 0.017, Validation error: 0.017, Learning rate: 0.07939\n",
      "Epoch 4 / 10: Training error: 0.016, Validation error: 0.016, Learning rate: 0.06545\n",
      "Epoch 5 / 10: Training error: 0.016, Validation error: 0.016, Learning rate: 0.05000\n",
      "Epoch 6 / 10: Training error: 0.015, Validation error: 0.015, Learning rate: 0.03455\n",
      "Epoch 7 / 10: Training error: 0.015, Validation error: 0.015, Learning rate: 0.02061\n",
      "Epoch 8 / 10: Training error: 0.015, Validation error: 0.015, Learning rate: 0.00955\n",
      "Epoch 9 / 10: Training error: 0.014, Validation error: 0.014, Learning rate: 0.00245\n",
      "Epoch 0 / 10: Training error: 0.015, Validation error: 0.015, Learning rate: 0.01000\n",
      "Epoch 1 / 10: Training error: 0.015, Validation error: 0.015, Learning rate: 0.00976\n",
      "Epoch 2 / 10: Training error: 0.015, Validation error: 0.015, Learning rate: 0.00905\n",
      "Epoch 3 / 10: Training error: 0.014, Validation error: 0.015, Learning rate: 0.00794\n",
      "Epoch 4 / 10: Training error: 0.014, Validation error: 0.014, Learning rate: 0.00655\n",
      "Epoch 5 / 10: Training error: 0.014, Validation error: 0.014, Learning rate: 0.00500\n",
      "Epoch 6 / 10: Training error: 0.014, Validation error: 0.014, Learning rate: 0.00345\n",
      "Epoch 7 / 10: Training error: 0.014, Validation error: 0.014, Learning rate: 0.00206\n",
      "Epoch 8 / 10: Training error: 0.014, Validation error: 0.014, Learning rate: 0.00095\n",
      "Epoch 9 / 10: Training error: 0.014, Validation error: 0.014, Learning rate: 0.00024\n",
      "Epoch 0 / 10: Training error: 0.014, Validation error: 0.014, Learning rate: 0.00100\n",
      "Epoch 1 / 10: Training error: 0.014, Validation error: 0.014, Learning rate: 0.00098\n",
      "Epoch 2 / 10: Training error: 0.014, Validation error: 0.014, Learning rate: 0.00090\n",
      "Epoch 3 / 10: Training error: 0.014, Validation error: 0.014, Learning rate: 0.00079\n",
      "Epoch 4 / 10: Training error: 0.014, Validation error: 0.014, Learning rate: 0.00065\n",
      "Epoch 5 / 10: Training error: 0.014, Validation error: 0.014, Learning rate: 0.00050\n",
      "Epoch 6 / 10: Training error: 0.014, Validation error: 0.014, Learning rate: 0.00035\n",
      "Epoch 7 / 10: Training error: 0.014, Validation error: 0.014, Learning rate: 0.00021\n",
      "Epoch 8 / 10: Training error: 0.014, Validation error: 0.014, Learning rate: 0.00010\n",
      "Epoch 9 / 10: Training error: 0.014, Validation error: 0.014, Learning rate: 0.00002\n"
     ]
    },
    {
     "data": {
      "text/plain": [
       "{'training_errors': [0.01977195990756481,\n",
       "  0.017699593352403092,\n",
       "  0.01708152539907402,\n",
       "  0.01659621835815025,\n",
       "  0.01614905049818259,\n",
       "  0.015715639094853216,\n",
       "  0.01531632100751386,\n",
       "  0.014953853055300071,\n",
       "  0.014665298549666585,\n",
       "  0.014484026722466499,\n",
       "  0.014615578727331846,\n",
       "  0.014580469170705686,\n",
       "  0.014533742320127522,\n",
       "  0.014480268686802312,\n",
       "  0.014421175628742854,\n",
       "  0.014361737774928671,\n",
       "  0.014307805999570097,\n",
       "  0.014264112757387232,\n",
       "  0.01423518787433014,\n",
       "  0.014220052100926445,\n",
       "  0.014215506345430487,\n",
       "  0.014214307349458397,\n",
       "  0.014213361733028552,\n",
       "  0.014212564748688533,\n",
       "  0.014211898936519607,\n",
       "  0.01421134572700704,\n",
       "  0.014210903728571669,\n",
       "  0.014210470744636166,\n",
       "  0.014210059972846264,\n",
       "  0.014209747586330423],\n",
       " 'validation_errors': [0.019369249116486745,\n",
       "  0.018168538645195485,\n",
       "  0.01723619874925068,\n",
       "  0.016915708843977396,\n",
       "  0.016321496409396574,\n",
       "  0.015858330305319635,\n",
       "  0.015252502350673484,\n",
       "  0.014903404083889965,\n",
       "  0.014728959147055484,\n",
       "  0.014477507574943073,\n",
       "  0.014642420724951933,\n",
       "  0.014591256219057894,\n",
       "  0.01453156469375707,\n",
       "  0.01451131363427671,\n",
       "  0.014460887223981202,\n",
       "  0.01439732212207788,\n",
       "  0.014322957927416094,\n",
       "  0.014275735569454337,\n",
       "  0.01423151545570698,\n",
       "  0.014217707339703652,\n",
       "  0.014215410565752533,\n",
       "  0.014214283929274435,\n",
       "  0.014213531080737174,\n",
       "  0.01421273341079917,\n",
       "  0.01421185176874625,\n",
       "  0.014211126860432874,\n",
       "  0.014210465181346218,\n",
       "  0.01420996195665011,\n",
       "  0.01420971187126382,\n",
       "  0.014209677437207677]}"
      ]
     },
     "execution_count": 43,
     "metadata": {},
     "output_type": "execute_result"
    }
   ],
   "source": [
    "n_epochs = 10\n",
    "optimizer = torch.optim.SGD(qrnn.model.parameters(), lr=0.1, momentum=0.9)\n",
    "scheduler = torch.optim.lr_scheduler.CosineAnnealingLR(optimizer, n_epochs)\n",
    "qrnn.train(training_loader,\n",
    "           validation_loader,\n",
    "           optimizer=optimizer,\n",
    "           learning_rate_scheduler=scheduler,\n",
    "           maximum_epochs=n_epochs,\n",
    "           gpu=True)\n",
    "optimizer = torch.optim.SGD(qrnn.model.parameters(), lr=0.01, momentum=0.9)\n",
    "scheduler = torch.optim.lr_scheduler.CosineAnnealingLR(optimizer, n_epochs)\n",
    "qrnn.train(training_loader,\n",
    "           validation_loader,\n",
    "           optimizer=optimizer,\n",
    "           learning_rate_scheduler=scheduler,\n",
    "           maximum_epochs=n_epochs,\n",
    "           gpu=True)\n",
    "optimizer = torch.optim.SGD(qrnn.model.parameters(), lr=0.001)\n",
    "scheduler = torch.optim.lr_scheduler.CosineAnnealingLR(optimizer, n_epochs)\n",
    "qrnn.train(training_loader,\n",
    "           validation_loader,\n",
    "           optimizer=optimizer,\n",
    "           learning_rate_scheduler=scheduler,\n",
    "           maximum_epochs=n_epochs,\n",
    "           gpu=True)"
   ]
  },
  {
   "cell_type": "markdown",
   "metadata": {},
   "source": [
    "## Classifying raining pixels\n",
    "\n",
    "We will test our retrieval by using it to predict whether the rain rate at a given pixel is larger than a threshold of $0.1\\ \\text{mm/h}$. The estimated probability of a given pixel being larger than this value is also part of the GPROF retrieval output and we will use this output to evaluate the QRNN retrieval."
   ]
  },
  {
   "cell_type": "code",
   "execution_count": 59,
   "metadata": {},
   "outputs": [],
   "source": [
    "import quantnn as q\n",
    "from quantnn.examples.gprof_rr import GPROFTestset\n",
    "test_data = GPROFTestset(\"data/test_data_gmi_small.nc\", normalizer=training_data.normalizer)\n",
    "y_pred = qrnn.predict(test_data.x)\n",
    "p_pred = q.probability_larger_than(y_pred, qrnn.quantiles, 0.01)\n",
    "p_gprof = test_data.y_pop / 100.0\n",
    "truth = test_data.y.ravel() > 0.01"
   ]
  },
  {
   "cell_type": "code",
   "execution_count": 60,
   "metadata": {},
   "outputs": [],
   "source": [
    "def precision_and_recall_curve(p_pred, truth, n=101):\n",
    "    ps = np.linspace(0, 1, n)\n",
    "    precision = np.zeros(n)\n",
    "    recall = np.zeros(n)\n",
    "    for i, p in enumerate(ps):\n",
    "        predicted = p_pred > p\n",
    "        precision[i] = np.sum(predicted * truth) / np.sum(predicted)\n",
    "        recall[i] = np.sum(predicted * truth) / np.sum(truth)\n",
    "    return precision, recall\n",
    "\n",
    "precision_qrnn, recall_qrnn = precision_and_recall_curve(p_pred, truth)\n",
    "precision_gprof, recall_gprof = precision_and_recall_curve(p_gprof, truth)"
   ]
  },
  {
   "cell_type": "code",
   "execution_count": 74,
   "metadata": {},
   "outputs": [
    {
     "data": {
      "text/plain": [
       "<matplotlib.legend.Legend at 0x7f205e8a6510>"
      ]
     },
     "execution_count": 74,
     "metadata": {},
     "output_type": "execute_result"
    },
    {
     "data": {
      "image/png": "[encoded data removed]",
      "text/plain": [
       "<Figure size 432x288 with 1 Axes>"
      ]
     },
     "metadata": {
      "needs_background": "light"
     },
     "output_type": "display_data"
    }
   ],
   "source": [
    "f, ax = plt.subplots(1, 1)\n",
    "ax.plot(recall_qrnn, precision_qrnn, label=\"QRNN\")\n",
    "ax.plot(recall_gprof, precision_gprof, label=\"GPROF\")\n",
    "ax.set_xlabel(\"Recall\")\n",
    "ax.set_ylabel(\"Precision\")\n",
    "ax.legend()"
   ]
  }
 ],
 "metadata": {
  "kernelspec": {
   "display_name": "Python 3",
   "language": "python",
   "name": "python3"
  },
  "language_info": {
   "codemirror_mode": {
    "name": "ipython",
    "version": 3
   },
   "file_extension": ".py",
   "mimetype": "text/x-python",
   "name": "python",
   "nbconvert_exporter": "python",
   "pygments_lexer": "ipython3",
   "version": "3.7.4"
  }
 },
 "nbformat": 4,
 "nbformat_minor": 4
}

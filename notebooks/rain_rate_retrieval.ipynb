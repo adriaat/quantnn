{
 "cells": [
  {
   "cell_type": "markdown",
   "metadata": {},
   "source": [
    "# Simple GPROF rain rate retrieval\n",
    "\n",
    "In this notebook we will apply QRNNs to retrieve rain rates from passive microwave observations from the Global Precipitation Measurement (GPM) mission. We will then use the model to classify pixels based on their rain rate and compare the performance of the classifier to that of the current algorithm. "
   ]
  },
  {
   "cell_type": "code",
   "execution_count": 1,
   "metadata": {},
   "outputs": [],
   "source": [
    "%load_ext autoreload\n",
    "%autoreload 2\n",
    "import numpy as np\n",
    "import matplotlib.pyplot as plt\n",
    "from quantnn.examples.gprof_simple import GPROFDataset, download_data\n",
    "download_data()"
   ]
  },
  {
   "cell_type": "markdown",
   "metadata": {},
   "source": [
    "## The Data\n",
    "\n",
    "The input data consists of single-pixel observations from the GMI radiometer combined with the surface type, column-integrated water vapor and two-meter temperature. Expanding the 14 surface types to one-hot encoding results in 29 input features.\n",
    "\n",
    "The output data consists of surface rain rates, which are, for the largest part, derived from GMI observations combined with the precipitation radar, which is flown together with GMI on board the GPM Core Observatory satellite. The combined radar-radiometer observations improve the accuracy of the rain retrieval, which is why this data is suitable to be used as ground truth."
   ]
  },
  {
   "cell_type": "code",
   "execution_count": 2,
   "metadata": {},
   "outputs": [],
   "source": [
    "training_data = GPROFDataset(\"data/training_data_gmi_small.nc\", batch_size=128)\n",
    "validation_data = GPROFDataset(\"data/training_data_gmi_small.nc\", batch_size=128, normalizer=training_data.normalizer)"
   ]
  },
  {
   "cell_type": "code",
   "execution_count": 3,
   "metadata": {},
   "outputs": [],
   "source": [
    "from torch.utils.data import DataLoader\n",
    "training_loader = DataLoader(training_data, batch_size=None, num_workers=2)\n",
    "validation_loader = DataLoader(validation_data, batch_size=None, num_workers=2)"
   ]
  },
  {
   "cell_type": "markdown",
   "metadata": {},
   "source": [
    "## Defining a QRNN model"
   ]
  },
  {
   "cell_type": "code",
   "execution_count": 4,
   "metadata": {},
   "outputs": [],
   "source": [
    "import quantnn as qn\n",
    "quantiles = [0.01, 0.05, 0.15, 0.25, 0.35, 0.45, 0.5, 0.55, 0.65, 0.75, 0.85, 0.95, 0.99]\n",
    "qrnn = qn.QRNN(n_inputs=29, quantiles=quantiles, model=(4, 256, \"relu\"))"
   ]
  },
  {
   "cell_type": "markdown",
   "metadata": {},
   "source": [
    "## Training the QRNN"
   ]
  },
  {
   "cell_type": "code",
   "execution_count": 5,
   "metadata": {},
   "outputs": [
    {
     "name": "stdout",
     "output_type": "stream",
     "text": [
      "Epoch  1 / 10: train. loss = 0.0197, val. loss = 0.0187, lr. = 0.1000, time = 59.849901 s\n",
      "Epoch  2 / 10: train. loss = 0.0175, val. loss = 0.0181, lr. = 0.0976, time = 57.874561 s\n",
      "Epoch  3 / 10: train. loss = 0.0169, val. loss = 0.0177, lr. = 0.0905, time = 58.140045 s\n",
      "Epoch  4 / 10: train. loss = 0.0164, val. loss = 0.0174, lr. = 0.0794, time = 58.50001 s\n",
      "Epoch  5 / 10: train. loss = 0.0160, val. loss = 0.0171, lr. = 0.0655, time = 57.944518 s\n",
      "Epoch  6 / 10: train. loss = 0.0156, val. loss = 0.0169, lr. = 0.0500, time = 57.821666 s\n",
      "Epoch  7 / 10: train. loss = 0.0152, val. loss = 0.0166, lr. = 0.0345, time = 58.348087 s\n",
      "Epoch  8 / 10: train. loss = 0.0149, val. loss = 0.0164, lr. = 0.0206, time = 57.638794 s\n",
      "Epoch  9 / 10: train. loss = 0.0146, val. loss = 0.0162, lr. = 0.0095, time = 58.148179 s\n",
      "Epoch 10 / 10: train. loss = 0.0144, val. loss = 0.0160, lr. = 0.0024, time = 57.940222 s\n",
      "Epoch  1 / 10: train. loss = 0.0145, val. loss = 0.0144, lr. = 0.0100, time = 58.036201 s\n",
      "Epoch  2 / 10: train. loss = 0.0145, val. loss = 0.0144, lr. = 0.0098, time = 58.689348 s\n",
      "Epoch  3 / 10: train. loss = 0.0145, val. loss = 0.0144, lr. = 0.0090, time = 58.521033 s\n",
      "Epoch  4 / 10: train. loss = 0.0144, val. loss = 0.0144, lr. = 0.0079, time = 58.106532 s\n",
      "Epoch  5 / 10: train. loss = 0.0144, val. loss = 0.0144, lr. = 0.0065, time = 57.689239 s\n",
      "Epoch  6 / 10: train. loss = 0.0143, val. loss = 0.0144, lr. = 0.0050, time = 58.180892 s\n",
      "Epoch  7 / 10: train. loss = 0.0143, val. loss = 0.0143, lr. = 0.0035, time = 58.161749 s\n",
      "Epoch  8 / 10: train. loss = 0.0142, val. loss = 0.0143, lr. = 0.0021, time = 57.883379 s\n",
      "Epoch  9 / 10: train. loss = 0.0142, val. loss = 0.0143, lr. = 0.0010, time = 58.055377 s\n",
      "Epoch 10 / 10: train. loss = 0.0142, val. loss = 0.0143, lr. = 0.0002, time = 58.395221 s\n",
      "Epoch  1 / 10: train. loss = 0.0142, val. loss = 0.0142, lr. = 0.0010, time = 54.967153 s\n",
      "Epoch  2 / 10: train. loss = 0.0142, val. loss = 0.0142, lr. = 0.0010, time = 55.1086 s\n",
      "Epoch  3 / 10: train. loss = 0.0142, val. loss = 0.0142, lr. = 0.0009, time = 55.952724 s\n",
      "Epoch  4 / 10: train. loss = 0.0142, val. loss = 0.0142, lr. = 0.0008, time = 55.743065 s\n",
      "Epoch  5 / 10: train. loss = 0.0142, val. loss = 0.0142, lr. = 0.0007, time = 55.328766 s\n",
      "Epoch  6 / 10: train. loss = 0.0142, val. loss = 0.0142, lr. = 0.0005, time = 55.916232 s\n",
      "Epoch  7 / 10: train. loss = 0.0142, val. loss = 0.0142, lr. = 0.0003, time = 54.527631 s\n",
      "Epoch  8 / 10: train. loss = 0.0142, val. loss = 0.0142, lr. = 0.0002, time = 55.190454 s\n",
      "Epoch  9 / 10: train. loss = 0.0142, val. loss = 0.0142, lr. = 0.0001, time = 55.390896 s\n",
      "Epoch 10 / 10: train. loss = 0.0142, val. loss = 0.0142, lr. = 0.0000, time = 55.983291 s\n"
     ]
    },
    {
     "data": {
      "text/plain": [
       "{'training_errors': [0.019676853695162495,\n",
       "  0.017488023740689806,\n",
       "  0.016883232884681725,\n",
       "  0.016414961717262377,\n",
       "  0.015973747502462596,\n",
       "  0.015567858074627851,\n",
       "  0.01519048616364194,\n",
       "  0.014854037944624228,\n",
       "  0.01457825569161006,\n",
       "  0.01440717304811162,\n",
       "  0.014535996318773697,\n",
       "  0.014505150770559956,\n",
       "  0.014460944863172202,\n",
       "  0.014411092704782448,\n",
       "  0.014358306339428162,\n",
       "  0.014303201402018158,\n",
       "  0.014252274930432383,\n",
       "  0.014211172438434236,\n",
       "  0.014182657265558528,\n",
       "  0.014166630544527105,\n",
       "  0.014162283242236633,\n",
       "  0.014161297585052572,\n",
       "  0.01416039977502488,\n",
       "  0.01415959142190979,\n",
       "  0.014158872159898911,\n",
       "  0.014158237466472086,\n",
       "  0.014157720947930672,\n",
       "  0.01415730519433801,\n",
       "  0.01415693029079439,\n",
       "  0.01415666496827965],\n",
       " 'validation_errors': [0.018707160967971107,\n",
       "  0.017395331839085607,\n",
       "  0.017124375757569213,\n",
       "  0.01655358172949176,\n",
       "  0.015963830074235914,\n",
       "  0.01541334416074616,\n",
       "  0.014981719197775033,\n",
       "  0.014756156523286287,\n",
       "  0.01448327758246876,\n",
       "  0.01438092937800302,\n",
       "  0.014441640039439676,\n",
       "  0.014403282951156966,\n",
       "  0.014381622458151744,\n",
       "  0.01433796173956079,\n",
       "  0.014306520832073538,\n",
       "  0.01426401671168704,\n",
       "  0.014217330910175902,\n",
       "  0.014195793310856401,\n",
       "  0.014179124919487307,\n",
       "  0.0141648583605324,\n",
       "  0.014161576199677735,\n",
       "  0.014160724910061309,\n",
       "  0.014159860834351091,\n",
       "  0.014159040298281194,\n",
       "  0.014158352042992898,\n",
       "  0.014157694328230564,\n",
       "  0.014157146594842612,\n",
       "  0.01415676632200862,\n",
       "  0.014156606720029389,\n",
       "  0.014156593288602042]}"
      ]
     },
     "execution_count": 5,
     "metadata": {},
     "output_type": "execute_result"
    }
   ],
   "source": [
    "import torch\n",
    "n_epochs = 10\n",
    "optimizer = torch.optim.SGD(qrnn.model.parameters(), lr=0.1, momentum=0.9)\n",
    "scheduler = torch.optim.lr_scheduler.CosineAnnealingLR(optimizer, n_epochs)\n",
    "qrnn.train(training_loader,\n",
    "           validation_loader,\n",
    "           optimizer=optimizer,\n",
    "           scheduler=scheduler,\n",
    "           n_epochs=n_epochs,\n",
    "           device=\"gpu\")\n",
    "optimizer = torch.optim.SGD(qrnn.model.parameters(), lr=0.01, momentum=0.9)\n",
    "scheduler = torch.optim.lr_scheduler.CosineAnnealingLR(optimizer, n_epochs)\n",
    "qrnn.train(training_loader,\n",
    "           validation_loader,\n",
    "           optimizer=optimizer,\n",
    "           scheduler=scheduler,\n",
    "           n_epochs=n_epochs,\n",
    "           device=\"gpu\")\n",
    "optimizer = torch.optim.SGD(qrnn.model.parameters(), lr=0.001)\n",
    "scheduler = torch.optim.lr_scheduler.CosineAnnealingLR(optimizer, n_epochs)\n",
    "qrnn.train(training_loader,\n",
    "           validation_loader,\n",
    "           optimizer=optimizer,\n",
    "           scheduler=scheduler,\n",
    "           n_epochs=n_epochs,\n",
    "           device=\"gpu\")"
   ]
  },
  {
   "cell_type": "markdown",
   "metadata": {},
   "source": [
    "## Classifying raining pixels\n",
    "\n",
    "We will test our retrieval by using it to predict whether the rain rate at a given pixel is larger than a threshold of $0.01\\ \\text{mm/h}$. The estimated probability of a given pixel being larger than this value is also part of the GPROF retrieval output and we will use this output to evaluate the QRNN retrieval."
   ]
  },
  {
   "cell_type": "code",
   "execution_count": 6,
   "metadata": {},
   "outputs": [
    {
     "ename": "ModuleNotFoundError",
     "evalue": "No module named 'quantnn.examples.gprof_rr'",
     "output_type": "error",
     "traceback": [
      "\u001b[0;31m---------------------------------------------------------------------------\u001b[0m",
      "\u001b[0;31mModuleNotFoundError\u001b[0m                       Traceback (most recent call last)",
      "\u001b[0;32m<ipython-input-6-6001e307c614>\u001b[0m in \u001b[0;36m<module>\u001b[0;34m\u001b[0m\n\u001b[1;32m      1\u001b[0m \u001b[0;32mimport\u001b[0m \u001b[0mquantnn\u001b[0m \u001b[0;32mas\u001b[0m \u001b[0mq\u001b[0m\u001b[0;34m\u001b[0m\u001b[0;34m\u001b[0m\u001b[0m\n\u001b[0;32m----> 2\u001b[0;31m \u001b[0;32mfrom\u001b[0m \u001b[0mquantnn\u001b[0m\u001b[0;34m.\u001b[0m\u001b[0mexamples\u001b[0m\u001b[0;34m.\u001b[0m\u001b[0mgprof_rr\u001b[0m \u001b[0;32mimport\u001b[0m \u001b[0mGPROFTestset\u001b[0m\u001b[0;34m\u001b[0m\u001b[0;34m\u001b[0m\u001b[0m\n\u001b[0m\u001b[1;32m      3\u001b[0m \u001b[0mtest_data\u001b[0m \u001b[0;34m=\u001b[0m \u001b[0mGPROFTestset\u001b[0m\u001b[0;34m(\u001b[0m\u001b[0;34m\"data/test_data_gmi_small.nc\"\u001b[0m\u001b[0;34m,\u001b[0m \u001b[0mnormalizer\u001b[0m\u001b[0;34m=\u001b[0m\u001b[0mtraining_data\u001b[0m\u001b[0;34m.\u001b[0m\u001b[0mnormalizer\u001b[0m\u001b[0;34m)\u001b[0m\u001b[0;34m\u001b[0m\u001b[0;34m\u001b[0m\u001b[0m\n\u001b[1;32m      4\u001b[0m \u001b[0mp_qrnn\u001b[0m \u001b[0;34m=\u001b[0m \u001b[0mqrnn\u001b[0m\u001b[0;34m.\u001b[0m\u001b[0mprobability_larger_than\u001b[0m\u001b[0;34m(\u001b[0m\u001b[0mtest_data\u001b[0m\u001b[0;34m.\u001b[0m\u001b[0mx\u001b[0m\u001b[0;34m,\u001b[0m \u001b[0;36m0.01\u001b[0m\u001b[0;34m)\u001b[0m\u001b[0;34m.\u001b[0m\u001b[0mdetach\u001b[0m\u001b[0;34m(\u001b[0m\u001b[0;34m)\u001b[0m\u001b[0;34m.\u001b[0m\u001b[0mnumpy\u001b[0m\u001b[0;34m(\u001b[0m\u001b[0;34m)\u001b[0m\u001b[0;34m\u001b[0m\u001b[0;34m\u001b[0m\u001b[0m\n\u001b[1;32m      5\u001b[0m \u001b[0mp_gprof\u001b[0m \u001b[0;34m=\u001b[0m \u001b[0mtest_data\u001b[0m\u001b[0;34m.\u001b[0m\u001b[0my_pop\u001b[0m \u001b[0;34m/\u001b[0m \u001b[0;36m100.0\u001b[0m\u001b[0;34m\u001b[0m\u001b[0;34m\u001b[0m\u001b[0m\n",
      "\u001b[0;31mModuleNotFoundError\u001b[0m: No module named 'quantnn.examples.gprof_rr'"
     ]
    }
   ],
   "source": [
    "import quantnn as q\n",
    "from quantnn.examples.gprof_rr import GPROFTestset\n",
    "test_data = GPROFTestset(\"data/test_data_gmi_small.nc\", normalizer=training_data.normalizer)\n",
    "p_qrnn = qrnn.probability_larger_than(test_data.x, 0.01).detach().numpy()\n",
    "p_gprof = test_data.y_pop / 100.0\n",
    "truth = test_data.y.ravel() > 0.01"
   ]
  },
  {
   "cell_type": "code",
   "execution_count": null,
   "metadata": {},
   "outputs": [],
   "source": [
    "def precision_and_recall_curve(p_pred, truth, n=101):\n",
    "    ps = np.linspace(0, 1, n)\n",
    "    precision = np.zeros(n)\n",
    "    recall = np.zeros(n)\n",
    "    for i, p in enumerate(ps):\n",
    "        predicted = p_pred > p\n",
    "        precision[i] = np.sum(predicted * truth) / np.sum(predicted)\n",
    "        recall[i] = np.sum(predicted * truth) / np.sum(truth)\n",
    "    return precision, recall\n",
    "\n",
    "precision_qrnn, recall_qrnn = precision_and_recall_curve(p_qrnn, truth)\n",
    "precision_gprof, recall_gprof = precision_and_recall_curve(p_gprof, truth)"
   ]
  },
  {
   "cell_type": "code",
   "execution_count": null,
   "metadata": {},
   "outputs": [],
   "source": [
    "from quantnn.plotting import set_style\n",
    "set_style()\n",
    "f, ax = plt.subplots(1, 1)\n",
    "ax.plot(recall_qrnn, precision_qrnn, label=\"QRNN\")\n",
    "ax.plot(recall_gprof, precision_gprof, label=\"GPROF\")\n",
    "ax.set_xlabel(\"Recall\")\n",
    "ax.set_ylabel(\"Precision\")\n",
    "ax.legend()"
   ]
  }
 ],
 "metadata": {
  "kernelspec": {
   "display_name": "Python 3",
   "language": "python",
   "name": "python3"
  },
  "language_info": {
   "codemirror_mode": {
    "name": "ipython",
    "version": 3
   },
   "file_extension": ".py",
   "mimetype": "text/x-python",
   "name": "python",
   "nbconvert_exporter": "python",
   "pygments_lexer": "ipython3",
   "version": "3.7.4"
  }
 },
 "nbformat": 4,
 "nbformat_minor": 4
}
